{
 "cells": [
  {
   "cell_type": "code",
   "execution_count": 2,
   "id": "ff35744c",
   "metadata": {},
   "outputs": [
    {
     "name": "stdout",
     "output_type": "stream",
     "text": [
      "Enter the first number : 12345\n",
      "Enter the second number : 7596\n",
      "12345  =  7596  *  1  +  4749\n",
      "7596  =  4749  *  1  +  2847\n",
      "4749  =  2847  *  1  +  1902\n",
      "2847  =  1902  *  1  +  945\n",
      "1902  =  945  *  2  +  12\n",
      "945  =  12  *  78  +  9\n",
      "12  =  9  *  1  +  3\n",
      "9  =  3  *  3  +  0\n",
      "\n",
      " GCD of  12345  and  7596  is  3\n"
     ]
    }
   ],
   "source": [
    "def gcd(a, b):\n",
    "    r = a%b\n",
    "    q = a//b\n",
    "    print(a,\" = \",b,\" * \",q,\" + \",r)\n",
    "    if(r != 0):\n",
    "        gcd(b, r)\n",
    "    else:\n",
    "        print(\"\\n GCD of \",n1,\" and \",n2,\" is \",b)\n",
    "    \n",
    "n1 = int(input(\"Enter the first number : \"))\n",
    "n2 = int(input(\"Enter the second number : \"))\n",
    "gcd(n1, n2)"
   ]
  },
  {
   "cell_type": "code",
   "execution_count": null,
   "id": "63768c1b",
   "metadata": {},
   "outputs": [],
   "source": []
  },
  {
   "cell_type": "code",
   "execution_count": null,
   "id": "cc554aa9",
   "metadata": {},
   "outputs": [],
   "source": []
  }
 ],
 "metadata": {
  "kernelspec": {
   "display_name": "Python 3 (ipykernel)",
   "language": "python",
   "name": "python3"
  },
  "language_info": {
   "codemirror_mode": {
    "name": "ipython",
    "version": 3
   },
   "file_extension": ".py",
   "mimetype": "text/x-python",
   "name": "python",
   "nbconvert_exporter": "python",
   "pygments_lexer": "ipython3",
   "version": "3.9.7"
  }
 },
 "nbformat": 4,
 "nbformat_minor": 5
}
